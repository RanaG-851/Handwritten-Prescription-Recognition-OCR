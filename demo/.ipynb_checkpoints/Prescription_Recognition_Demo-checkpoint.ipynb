{
 "cells": [
  {
   "cell_type": "markdown",
   "id": "4a0ab841",
   "metadata": {},
   "source": [
    "# 🧪 Doctor Prescription Handwritten Recognition\n",
    "This notebook demonstrates how to run the prescription image recognition pipeline."
   ]
  },
  {
   "cell_type": "code",
   "execution_count": null,
   "id": "6a327bb1",
   "metadata": {},
   "outputs": [],
   "source": [
    "import cv2\n",
    "import numpy as np\n",
    "from demo import process"
   ]
  },
  {
   "cell_type": "markdown",
   "id": "9af735ba",
   "metadata": {},
   "source": [
    "### 🔍 Run Recognition on an Image\n",
    "Replace `'pres.jpeg'` with the name of your prescription image."
   ]
  },
  {
   "cell_type": "code",
   "execution_count": null,
   "id": "38773d74",
   "metadata": {},
   "outputs": [],
   "source": [
    "process.run_process('pres.jpeg')"
   ]
  }
 ],
 "metadata": {},
 "nbformat": 4,
 "nbformat_minor": 5
}
